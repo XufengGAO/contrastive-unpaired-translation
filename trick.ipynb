{
 "cells": [
  {
   "cell_type": "code",
   "execution_count": null,
   "metadata": {},
   "outputs": [],
   "source": [
    "from models import networks\n",
    "\n",
    "input_nc = 3\n",
    "output_nc = 3\n",
    "ngf = 64\n",
    "norm = 'instance'\n",
    "norm_layer = networks.get_norm_layer(norm_type=norm)\n",
    "net = networks.ResnetGenerator(input_nc, output_nc, ngf, norm_layer=norm_layer, use_dropout=False, no_antialias=False, no_antialias_up=False, n_blocks=9, opt=None)\n",
    "\n",
    "for layer_id, layer in enumerate(net.model):\n",
    "    print(layer_id, layer)\n",
    "\n"
   ]
  },
  {
   "cell_type": "code",
   "execution_count": null,
   "metadata": {},
   "outputs": [],
   "source": [
    "from "
   ]
  }
 ],
 "metadata": {
  "kernelspec": {
   "display_name": "Python 3.10.4 ('SAE_env': venv)",
   "language": "python",
   "name": "python3"
  },
  "language_info": {
   "codemirror_mode": {
    "name": "ipython",
    "version": 3
   },
   "file_extension": ".py",
   "mimetype": "text/x-python",
   "name": "python",
   "nbconvert_exporter": "python",
   "pygments_lexer": "ipython3",
   "version": "3.10.4"
  },
  "orig_nbformat": 4,
  "vscode": {
   "interpreter": {
    "hash": "781ed8339944abd6b0d4ef7a6f82081c45b75b830cc61d7a060db35b64f7d371"
   }
  }
 },
 "nbformat": 4,
 "nbformat_minor": 2
}
